{
 "cells": [
  {
   "cell_type": "code",
   "execution_count": 1,
   "metadata": {},
   "outputs": [],
   "source": [
    "import os\n",
    "import numpy as np"
   ]
  },
  {
   "cell_type": "code",
   "execution_count": 8,
   "metadata": {},
   "outputs": [
    {
     "data": {
      "text/plain": [
       "['amazon_cs.npz',\n",
       " 'amazon_photo.npz',\n",
       " 'blogcatalog.npz',\n",
       " 'citeseer.npz',\n",
       " 'citeseer_full.npz',\n",
       " 'coauthor_cs.npz',\n",
       " 'coauthor_phy.npz',\n",
       " 'cora.npz',\n",
       " 'cora_full.npz',\n",
       " 'cora_ml.npz',\n",
       " 'dblp.npz',\n",
       " 'flickr.npz',\n",
       " 'polblogs.npz',\n",
       " 'pubmed.npz',\n",
       " 'reddit.npz']"
      ]
     },
     "execution_count": 8,
     "metadata": {},
     "output_type": "execute_result"
    }
   ],
   "source": [
    "a = list(os.walk('./', topdown=False))\n",
    "a[-1][-1][:-1]"
   ]
  },
  {
   "cell_type": "code",
   "execution_count": 9,
   "metadata": {},
   "outputs": [],
   "source": [
    "\n",
    "for filename in a[-1][-1][:-1]:\n",
    "    with np.load(filename, allow_pickle=True) as loader:\n",
    "        loader = dict(loader)\n",
    "        np.savez_compressed(filename, **loader)\n"
   ]
  }
 ],
 "metadata": {
  "kernelspec": {
   "display_name": "Python 3",
   "language": "python",
   "name": "python3"
  },
  "language_info": {
   "codemirror_mode": {
    "name": "ipython",
    "version": 3
   },
   "file_extension": ".py",
   "mimetype": "text/x-python",
   "name": "python",
   "nbconvert_exporter": "python",
   "pygments_lexer": "ipython3",
   "version": "3.7.3"
  }
 },
 "nbformat": 4,
 "nbformat_minor": 4
}
